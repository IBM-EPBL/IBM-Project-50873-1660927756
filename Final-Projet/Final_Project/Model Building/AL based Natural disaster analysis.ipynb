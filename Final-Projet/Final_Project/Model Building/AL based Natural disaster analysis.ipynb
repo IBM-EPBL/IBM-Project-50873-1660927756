{
 "cells": [
  {
   "cell_type": "markdown",
   "id": "caeb5126",
   "metadata": {},
   "source": [
    "# Natural Disaster\n",
    "### Loading the Dataset & Image Data Generation"
   ]
  },
  {
   "cell_type": "code",
   "execution_count": 1,
   "id": "d28c672e-2adf-48d4-a932-9eead3615484",
   "metadata": {},
   "outputs": [],
   "source": [
    "from tensorflow.keras.preprocessing.image import ImageDataGenerator"
   ]
  },
  {
   "cell_type": "code",
   "execution_count": 2,
   "id": "59fd6cd1-d07f-4142-9fb5-ad8b39e4d6f8",
   "metadata": {},
   "outputs": [],
   "source": [
    "# Training Datagen\n",
    "train_datagen = ImageDataGenerator(rescale=1/255,zoom_range=0.2,horizontal_flip=True,vertical_flip=False)\n",
    "# Testing Datagen\n",
    "test_datagen = ImageDataGenerator(rescale=1/255)"
   ]
  },
  {
   "cell_type": "code",
   "execution_count": 3,
   "id": "abb15498-7081-4159-8bc2-9446325480b8",
   "metadata": {},
   "outputs": [
    {
     "name": "stdout",
     "output_type": "stream",
     "text": [
      "Found 198 images belonging to 4 classes.\n",
      "Found 742 images belonging to 4 classes.\n"
     ]
    }
   ],
   "source": [
    "# Training Dataset\n",
    "x_train=train_datagen.flow_from_directory(r'C:\\Users\\Venomhere\\Desktop\\IBM_AZAR\\Dataset\\test_set',target_size=(64,64), class_mode='categorical',batch_size=900)\n",
    "# Testing Dataset\n",
    "x_test=test_datagen.flow_from_directory(r'C:\\Users\\Venomhere\\Desktop\\IBM_AZAR\\Dataset\\train_set',target_size=(64,64), class_mode='categorical',batch_size=900)"
   ]
  },
  {
   "cell_type": "code",
   "execution_count": 4,
   "id": "95d51502-6c7f-481f-93d1-fbbf8d4b8312",
   "metadata": {},
   "outputs": [
    {
     "name": "stdout",
     "output_type": "stream",
     "text": [
      "Len x-train :  1\n",
      "Len x-test :  1\n"
     ]
    }
   ],
   "source": [
    "print(\"Len x-train : \", len(x_train))\n",
    "print(\"Len x-test : \", len(x_test))"
   ]
  },
  {
   "cell_type": "code",
   "execution_count": 5,
   "id": "0c7bd1a5-f00c-4e38-8b2b-7d72b87c8342",
   "metadata": {},
   "outputs": [
    {
     "data": {
      "text/plain": [
       "{'Cyclone': 0, 'Earthquake': 1, 'Flood': 2, 'Wildfire': 3}"
      ]
     },
     "execution_count": 5,
     "metadata": {},
     "output_type": "execute_result"
    }
   ],
   "source": [
    "# The Class Indices in Training Dataset\n",
    "x_train.class_indices"
   ]
  },
  {
   "cell_type": "markdown",
   "id": "587735d2-c2e1-41d9-9977-c2cc95d292d1",
   "metadata": {},
   "source": [
    "### Model Creation"
   ]
  },
  {
   "cell_type": "code",
   "execution_count": 6,
   "id": "ce455129-151f-4d93-b620-f9db2406426a",
   "metadata": {},
   "outputs": [],
   "source": [
    "# Importing Libraries\n",
    "from tensorflow.keras.models import Sequential\n",
    "from tensorflow.keras.layers import Convolution2D,MaxPooling2D,Flatten,Dense"
   ]
  },
  {
   "cell_type": "code",
   "execution_count": 7,
   "id": "c153d655-bf2a-4736-86b6-ec89a4e165c9",
   "metadata": {},
   "outputs": [],
   "source": [
    "# Creating Model\n",
    "model=Sequential()"
   ]
  },
  {
   "cell_type": "code",
   "execution_count": 8,
   "id": "9e37f026-48f0-4ce0-93c5-03c15d18c86a",
   "metadata": {},
   "outputs": [],
   "source": [
    "# Adding Layers\n",
    "model.add(Convolution2D(32,(3,3),activation='relu',input_shape=(64,64,3)))\n",
    "model.add(MaxPooling2D(pool_size=(2,2)))\n",
    "model.add(Flatten())\n",
    "\n",
    "# Adding Hidden Layers\n",
    "model.add(Dense(300,activation='relu'))\n",
    "model.add(Dense(150,activation='relu'))\n",
    "\n",
    "# Adding Output Layer\n",
    "model.add(Dense(9,activation='softmax'))"
   ]
  },
  {
   "cell_type": "code",
   "execution_count": 9,
   "id": "29f8b091-69b3-4fea-b6d4-6ea92c4fb717",
   "metadata": {},
   "outputs": [],
   "source": [
    "# Compiling the Model\n",
    "model.compile(loss='categorical_crossentropy',optimizer='adam',metrics=['accuracy'])"
   ]
  },
  {
   "cell_type": "code",
   "execution_count": 11,
   "id": "7d8b9954",
   "metadata": {},
   "outputs": [
    {
     "name": "stdout",
     "output_type": "stream",
     "text": [
      "Model: \"sequential\"\n",
      "_________________________________________________________________\n",
      " Layer (type)                Output Shape              Param #   \n",
      "=================================================================\n",
      " conv2d (Conv2D)             (None, 62, 62, 32)        896       \n",
      "                                                                 \n",
      " max_pooling2d (MaxPooling2D  (None, 31, 31, 32)       0         \n",
      " )                                                               \n",
      "                                                                 \n",
      " flatten (Flatten)           (None, 30752)             0         \n",
      "                                                                 \n",
      " dense (Dense)               (None, 300)               9225900   \n",
      "                                                                 \n",
      " dense_1 (Dense)             (None, 150)               45150     \n",
      "                                                                 \n",
      " dense_2 (Dense)             (None, 9)                 1359      \n",
      "                                                                 \n",
      "=================================================================\n",
      "Total params: 9,273,305\n",
      "Trainable params: 9,273,305\n",
      "Non-trainable params: 0\n",
      "_________________________________________________________________\n"
     ]
    }
   ],
   "source": [
    "model.summary()#summary of our model"
   ]
  },
  {
   "cell_type": "markdown",
   "id": "05ad001b-c47a-4d0b-9cdb-d085afd83383",
   "metadata": {},
   "source": [
    "### Saving the Model"
   ]
  },
  {
   "cell_type": "code",
   "execution_count": 12,
   "id": "952eca53-e5aa-4ad5-a868-5fd34080eafa",
   "metadata": {},
   "outputs": [],
   "source": [
    "model.save('disaster1.h5')\n",
    "# Current accuracy is 0.98"
   ]
  },
  {
   "cell_type": "code",
   "execution_count": null,
   "id": "99428b29",
   "metadata": {},
   "outputs": [],
   "source": []
  }
 ],
 "metadata": {
  "kernelspec": {
   "display_name": "Python 3 (ipykernel)",
   "language": "python",
   "name": "python3"
  },
  "language_info": {
   "codemirror_mode": {
    "name": "ipython",
    "version": 3
   },
   "file_extension": ".py",
   "mimetype": "text/x-python",
   "name": "python",
   "nbconvert_exporter": "python",
   "pygments_lexer": "ipython3",
   "version": "3.9.12"
  },
  "vscode": {
   "interpreter": {
    "hash": "26de051ba29f2982a8de78e945f0abaf191376122a1563185a90213a26c5da77"
   }
  }
 },
 "nbformat": 4,
 "nbformat_minor": 5
}
